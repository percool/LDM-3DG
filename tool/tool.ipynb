{
 "cells": [
  {
   "cell_type": "code",
   "execution_count": 23,
   "metadata": {},
   "outputs": [],
   "source": [
    "import yaml\n",
    "with open('environment.yml') as f:\n",
    "    dict_env = yaml.safe_load(f)\n",
    "    \n",
    "with open('environment_1.yml') as f:\n",
    "    dict_env_1 = yaml.safe_load(f)"
   ]
  },
  {
   "cell_type": "code",
   "execution_count": 69,
   "metadata": {},
   "outputs": [
    {
     "name": "stdout",
     "output_type": "stream",
     "text": [
      "fsspec==2022.11.0\n",
      "joblib==1.2.0\n",
      "multidict==6.0.3\n",
      "numpy==1.23.4\n",
      "pyparsing==3.0.9\n",
      "scikit-learn==1.1.3\n",
      "scipy==1.9.3\n",
      "threadpoolctl==3.1.0\n",
      "torch==1.11.0+cu113\n",
      "torch-cluster==1.6.0\n",
      "torch-geometric==2.1.0.post1\n",
      "torch-scatter==2.0.9\n",
      "torch-sparse==0.6.15\n",
      "tqdm==4.64.1\n",
      "yarl==1.8.2\n",
      "[27, 40, 58, 63, 97, 108, 109, 126, 128, 129, 131, 132, 133, 139, 149]\n"
     ]
    },
    {
     "data": {
      "text/plain": [
       "['anndata==0.9.2',\n",
       " 'antlr4-python3-runtime==4.9.3',\n",
       " 'appdirs==1.4.4',\n",
       " 'autodocktools-py3==1.5.7.post1+3.gaee55d5',\n",
       " 'axial-positional-embedding==0.2.1',\n",
       " 'biopython==1.78',\n",
       " 'charset-normalizer==2.1.1',\n",
       " 'cmake==3.28.1',\n",
       " 'cmappy==4.0.1',\n",
       " 'colored-traceback==0.3.0',\n",
       " 'contextlib2==21.6.0',\n",
       " 'contourpy==1.0.6',\n",
       " 'cycler==0.11.0',\n",
       " 'dcor==0.6',\n",
       " 'deepspeed==0.5.9',\n",
       " 'dllogger==1.0.0',\n",
       " 'dm-tree==0.1.8',\n",
       " 'docker-pycreds==0.4.0',\n",
       " 'e3fp==1.2.5',\n",
       " 'e3nn==0.5.1',\n",
       " 'easydict==1.10',\n",
       " 'einops==0.6.0',\n",
       " 'exceptiongroup==1.1.3',\n",
       " 'fair-esm==2.0.0',\n",
       " 'fcd-torch==1.0.7',\n",
       " 'filelock==3.8.0',\n",
       " 'fonttools==4.38.0',\n",
       " 'functorch==0.1.0',\n",
       " 'geomloss==0.2.6',\n",
       " 'gitdb==4.0.10',\n",
       " 'gitpython==3.1.30',\n",
       " 'h5py==3.9.0',\n",
       " 'hjson==3.1.0',\n",
       " 'huggingface-hub==0.11.0',\n",
       " 'igraph==0.10.6',\n",
       " 'imageio==2.25.0',\n",
       " 'importlib-resources==5.12.0',\n",
       " 'iniconfig==2.0.0',\n",
       " 'ipdb==0.13.13',\n",
       " 'keopscore==2.1.2']"
      ]
     },
     "execution_count": 69,
     "metadata": {},
     "output_type": "execute_result"
    }
   ],
   "source": [
    "import numpy as np\n",
    "env_pip=dict_env['dependencies'][-1]['pip']\n",
    "env_1_pip=dict_env_1['dependencies'][-1]['pip']\n",
    "env_1_pip\n",
    "\n",
    "i=0\n",
    "ids=[]\n",
    "for txt in env_pip:\n",
    "    txt_name=txt.split('==')[0]\n",
    "    for txt_1 in env_1_pip:\n",
    "        if txt_name == txt_1.split('==')[0]:\n",
    "            print(txt)\n",
    "            ids.append(i)\n",
    "    i+=1\n",
    "print(ids)\n",
    "\n",
    "pip_left=[env_pip[i] for i in range(len(env_pip)) if i not in ids]\n",
    "\n",
    "# for i in range(28,29):\n",
    "#     if i in ids:\n",
    "#         print('yes')\n",
    "pip_left[0:40]\n",
    "# len(pip_left)\n"
   ]
  },
  {
   "cell_type": "code",
   "execution_count": 74,
   "metadata": {},
   "outputs": [
    {
     "name": "stdout",
     "output_type": "stream",
     "text": [
      "pip install torch-ema==0.3 ; pip install torchdiffeq==0.2.3 ; pip install torchdrug==0.2.0.post1 ; pip install torchmetrics==0.11.0 ; pip install torchsde==0.2.6 ; pip install torchvision==0.12.0 ; pip install trampoline==0.1.2 ; pip install transformers==4.24.0 ; pip install triton==2.0.0 ; pip install umap-learn==0.5.3 ; pip install urllib3==1.26.12 ; pip install vina==1.2.3 ; pip install wandb==0.13.10 ; pip install wget==3.2 ; pip install xtb==22.1 ; \n"
     ]
    }
   ],
   "source": [
    "cmds=''\n",
    "for txt in pip_left[120:]:\n",
    "    cmds+='pip install '+ txt + ' ; '\n",
    "print(cmds)"
   ]
  },
  {
   "cell_type": "code",
   "execution_count": 77,
   "metadata": {},
   "outputs": [
    {
     "name": "stderr",
     "output_type": "stream",
     "text": [
      "usage: ipykernel_launcher.py [-h] [--log_dir LOG_DIR] [--condition CONDITION]\n",
      "                             [--data_dir DATA_DIR]\n",
      "                             [--sample_number SAMPLE_NUMBER]\n",
      "                             [--dim_condition DIM_CONDITION]\n",
      "                             [--ddp_num_nodes DDP_NUM_NODES]\n",
      "                             [--ddp_device DDP_DEVICE]\n",
      "ipykernel_launcher.py: error: unrecognized arguments: --f=/home/percool/.local/share/jupyter/runtime/kernel-v2-2357680wuyfd9xiEDJg.json\n"
     ]
    },
    {
     "ename": "SystemExit",
     "evalue": "2",
     "output_type": "error",
     "traceback": [
      "An exception has occurred, use %tb to see the full traceback.\n",
      "\u001b[0;31mSystemExit\u001b[0m\u001b[0;31m:\u001b[0m 2\n"
     ]
    }
   ],
   "source": [
    "import argparse\n",
    "parser = argparse.ArgumentParser()\n",
    "parser.add_argument('--log_dir', type=str, default='./logs/debug')\n",
    "parser.add_argument('--condition', type=str, default='alpha')\n",
    "\n",
    "parser.add_argument('--data_dir', type=str, default='../e3_diffusion_for_molecules/qm9/latent_diffusion/emb_2d_3d/')\n",
    "\n",
    "parser.add_argument('--sample_number', type=int, default=100000)\n",
    "parser.add_argument('--dim_condition', type=int, default=16)\n",
    "\n",
    "# number of nodes for parallel training\n",
    "parser.add_argument('--ddp_num_nodes', type=int, default=1)\n",
    "# number of devices in each node for parallel training\n",
    "parser.add_argument('--ddp_device', type=int, default=1)\n",
    "args = parser.parse_args()\n",
    "\n",
    "# print(args)"
   ]
  }
 ],
 "metadata": {
  "kernelspec": {
   "display_name": "nerf",
   "language": "python",
   "name": "python3"
  },
  "language_info": {
   "codemirror_mode": {
    "name": "ipython",
    "version": 3
   },
   "file_extension": ".py",
   "mimetype": "text/x-python",
   "name": "python",
   "nbconvert_exporter": "python",
   "pygments_lexer": "ipython3",
   "version": "3.10.12"
  }
 },
 "nbformat": 4,
 "nbformat_minor": 2
}
