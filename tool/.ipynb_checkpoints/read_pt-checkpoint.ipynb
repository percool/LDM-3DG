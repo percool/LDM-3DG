{
 "cells": [
  {
   "cell_type": "code",
   "execution_count": 1,
   "id": "24ae4311-af77-44b7-b706-8727a24b8d66",
   "metadata": {},
   "outputs": [],
   "source": [
    "import torch"
   ]
  },
  {
   "cell_type": "code",
   "execution_count": 2,
   "id": "689e80e8-814f-48c3-92c6-28a55a51a750",
   "metadata": {},
   "outputs": [],
   "source": [
    "# model_pt_all=torch.load('../AE_geom_cond_weights_and_data/weight_diffusion_gssl.pt')\n",
    "# model_pt_all=torch.load('../AE_geom_cond_weights_and_data/weight_diffusion.pt')\n",
    "# model_pt_all=torch.load('../AE_Geometry_and_Conditional_Latent_Diffusion/samples_latent_dock/emb2ds.pt')\n",
    "# model_pt_all=torch.load('../AE_Geometry_and_Conditional_Latent_Diffusion/samples_latent_dock/emb_protein.pt')\n",
    "model_pt_all=torch.load('../AE_Geometry_and_Conditional_Latent_Diffusion/samples_latent_dock/sample_z.pt')\n",
    "\n"
   ]
  },
  {
   "cell_type": "code",
   "execution_count": 5,
   "id": "b893fc89-250c-4cda-88cd-13fd6d53914f",
   "metadata": {},
   "outputs": [
    {
     "data": {
      "text/plain": [
       "30000"
      ]
     },
     "execution_count": 5,
     "metadata": {},
     "output_type": "execute_result"
    }
   ],
   "source": [
    "model_pt_all['iteration']"
   ]
  },
  {
   "cell_type": "code",
   "execution_count": 30,
   "id": "af83b7ac-43bd-4a14-a844-4ab4367f157b",
   "metadata": {},
   "outputs": [
    {
     "name": "stdout",
     "output_type": "stream",
     "text": [
      "dict_keys(['train', 'val', 'test'])\n",
      "0\n"
     ]
    },
    {
     "data": {
      "text/plain": [
       "165336"
      ]
     },
     "execution_count": 30,
     "metadata": {},
     "output_type": "execute_result"
    }
   ],
   "source": [
    "import numpy as np\n",
    "model_pt_all=torch.load('../AE_Geometry_and_Conditional_Latent_Diffusion/data/crossdocked_pocket10_pose_split.pt')\n",
    "print(model_pt_all.keys())\n",
    "list1=model_pt_all['train']\n",
    "list2=model_pt_all['test']\n",
    "\n",
    "same_elements = [element for element in list1 if element in list2]\n",
    "print(len(same_elements))\n",
    "\n",
    "\n",
    "max(np.array(list2))\n"
   ]
  },
  {
   "cell_type": "code",
   "execution_count": 8,
   "id": "8e93707c-3f29-4ed0-8bfe-75cc46a73030",
   "metadata": {},
   "outputs": [
    {
     "data": {
      "text/plain": [
       "torch.Size([100, 1000, 250])"
      ]
     },
     "execution_count": 8,
     "metadata": {},
     "output_type": "execute_result"
    }
   ],
   "source": [
    "model_pt_all.shape"
   ]
  },
  {
   "cell_type": "code",
   "execution_count": 18,
   "id": "da150a99-9d7c-4679-aa52-1f2e3c6a6872",
   "metadata": {},
   "outputs": [
    {
     "data": {
      "text/plain": [
       "torch.Size([99990, 250])"
      ]
     },
     "execution_count": 18,
     "metadata": {},
     "output_type": "execute_result"
    }
   ],
   "source": [
    "emb2d_all = torch.load('../AE_geom_cond_weights_and_data/emb3d.pt')\n",
    "emb2d_all.shape"
   ]
  },
  {
   "cell_type": "code",
   "execution_count": 4,
   "id": "e86a8d48",
   "metadata": {},
   "outputs": [
    {
     "data": {
      "text/plain": [
       "torch.Size([250])"
      ]
     },
     "execution_count": 4,
     "metadata": {},
     "output_type": "execute_result"
    }
   ],
   "source": [
    "idxs=0\n",
    "emb2d_all[idxs].size()"
   ]
  },
  {
   "cell_type": "code",
   "execution_count": 20,
   "id": "8d370586-1636-4596-9533-318e28440d8e",
   "metadata": {},
   "outputs": [
    {
     "data": {
      "text/plain": [
       "array([[[1, 2],\n",
       "        [1, 2],\n",
       "        [1, 2]],\n",
       "\n",
       "       [[3, 4],\n",
       "        [3, 4],\n",
       "        [3, 4]]])"
      ]
     },
     "execution_count": 20,
     "metadata": {},
     "output_type": "execute_result"
    }
   ],
   "source": [
    "import numpy as np\n",
    "a=np.array([[1,2],[3,4]])\n",
    "b=np.expand_dims(a, 1)\n",
    "b.shape\n",
    "c=np.repeat(b,3,axis=1)\n",
    "c.shape\n",
    "c"
   ]
  }
 ],
 "metadata": {
  "kernelspec": {
   "display_name": "Python 3 (ipykernel)",
   "language": "python",
   "name": "python3"
  },
  "language_info": {
   "codemirror_mode": {
    "name": "ipython",
    "version": 3
   },
   "file_extension": ".py",
   "mimetype": "text/x-python",
   "name": "python",
   "nbconvert_exporter": "python",
   "pygments_lexer": "ipython3",
   "version": "3.9.18"
  }
 },
 "nbformat": 4,
 "nbformat_minor": 5
}
