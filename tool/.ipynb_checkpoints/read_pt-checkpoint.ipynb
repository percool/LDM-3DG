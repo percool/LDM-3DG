{
 "cells": [
  {
   "cell_type": "code",
   "execution_count": null,
   "id": "24ae4311-af77-44b7-b706-8727a24b8d66",
   "metadata": {},
   "outputs": [],
   "source": [
    "import torch\n"
   ]
  },
  {
   "cell_type": "code",
   "execution_count": null,
   "id": "689e80e8-814f-48c3-92c6-28a55a51a750",
   "metadata": {},
   "outputs": [],
   "source": [
    "torch.load('emb2d.pt')"
   ]
  }
 ],
 "metadata": {
  "kernelspec": {
   "display_name": "Python 3 (ipykernel)",
   "language": "python",
   "name": "python3"
  },
  "language_info": {
   "codemirror_mode": {
    "name": "ipython",
    "version": 3
   },
   "file_extension": ".py",
   "mimetype": "text/x-python",
   "name": "python",
   "nbconvert_exporter": "python",
   "pygments_lexer": "ipython3",
   "version": "3.9.18"
  }
 },
 "nbformat": 4,
 "nbformat_minor": 5
}
